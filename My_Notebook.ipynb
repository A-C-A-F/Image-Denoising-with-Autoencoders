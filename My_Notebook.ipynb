{
 "cells": [
  {
   "cell_type": "markdown",
   "metadata": {},
   "source": [
    "# Image Denoising with Autoencoders\n",
    "\n",
    "## Task 1: Introduction and Importing Libraries\n",
    "___"
   ]
  },
  {
   "cell_type": "code",
   "execution_count": 4,
   "metadata": {},
   "outputs": [],
   "source": [
    "import numpy as np\n",
    "\n",
    "from tensorflow.keras.datasets import mnist\n",
    "from matplotlib import pyplot as plt\n",
    "from tensorflow.keras.models import Sequential, Model\n",
    "from tensorflow.keras.layers import Dense, Input\n",
    "from tensorflow.keras.callbacks import EarlyStopping, LambdaCallback\n",
    "from tensorflow.keras.utils import to_categorical\n",
    "\n",
    "%matplotlib inline"
   ]
  },
  {
   "cell_type": "markdown",
   "metadata": {},
   "source": [
    "For this project, we're using the popular __MNIST__ data set.\n",
    "This dataset has 60,000 examples of images of handwritten\n",
    "digits in the training set and 10,000 examples in the test\n",
    "set. The examples are black and white images of 28 by 28 as\n",
    "in 28 rows and 28 columns for each example.\n",
    "The labels are simply digits corresponding to the 10 classes\n",
    "from 0 to 9."
   ]
  },
  {
   "cell_type": "markdown",
   "metadata": {},
   "source": [
    "## Task 2: Data Preprocessing\n",
    "___\n"
   ]
  },
  {
   "cell_type": "markdown",
   "metadata": {},
   "source": [
    "Now we will create two neural network models in this project.\n",
    "One will be trained to perform classification\n",
    "of these handwritten digits from the MNIST dataset\n",
    "and another model will be used to de-noise input data.\n",
    "And this is our auto encoder.\n",
    "\n",
    "\n",
    "Eventually, we will connect the two models together and have\n",
    "them work in conjunction as a single composite model.\n",
    "In order to input the examples to our models, we will do\n",
    "a little bit of pre-processing on them.\n",
    "\n",
    "Basically, we will normalize the values to a range of 0 to 1.\n",
    "Then, we will reshape the training and tested examples\n",
    "to 784 dimensional vectors."
   ]
  },
  {
   "cell_type": "markdown",
   "metadata": {},
   "source": []
  },
  {
   "cell_type": "code",
   "execution_count": 5,
   "metadata": {},
   "outputs": [],
   "source": [
    "# let's load the data and populate these training and test sets.\n",
    "(X_train, y_train), (X_test, y_test) = mnist.load_data()\n",
    "#These will be our numpy arrays.\n",
    "\n",
    "# Let's normalize the values\n",
    "\n",
    "# Currently the values are from 0 to 255. They're all integer values for the intensity of our pixels.\n",
    "# We can change those values and normalize the data by doing the code below.\n",
    "# We will convert the type of our X_train from integer to a floating point number.\n",
    "# And then we will divide the result by 255. \n",
    "# Now, 255 is the maximum pixel value that we have.\n",
    "# So this will convert our values and X_train for all\n",
    "# the pixels to a range of 0 to 1.\n",
    "X_train = X_train.astype('float') / 255\n",
    "\n",
    "# Now we will do the same thing for our test set.\n",
    "X_test = X_test.astype('float') / 255\n",
    "\n",
    "# Re-shape the examples\n",
    "# We will also reshape our examples from the shape of 28 by 28 to vectors of 784 dimensions.\n",
    "# And this will make it easy for us to input our examples into the classifier neural network that we'll create.\n",
    "# We are using the numpy's reshape; and we have 60,000 examples; and the total number of pixels we have are 784.\n",
    "# This is 28(rows) multiplied by 28(columns).\n",
    "X_train = np.reshape(X_train, (60000, 784))\n",
    "\n",
    "# Let's do the same thing for our test set examples.\n",
    "X_test = np.reshape(X_test, (10000, 784))"
   ]
  },
  {
   "cell_type": "markdown",
   "metadata": {},
   "source": [
    "Great! Our examples are now ready to be fed into our model. The examples in the MNIST dataset are not noisy, though we\n",
    "will take a look at some of these images in the task below.\n",
    "\n",
    "But for our autoencoder, we do want noisy data so that we\n",
    "can showcase the de-noising example with this method."
   ]
  },
  {
   "cell_type": "markdown",
   "metadata": {},
   "source": [
    "## Task 3: Adding Noise\n",
    "___\n"
   ]
  },
  {
   "cell_type": "markdown",
   "metadata": {},
   "source": [
    "In this task, we are artificially adding some noise to our training and test set examples.\n",
    "\n",
    "Let's create a different variable for this so we can distinguish it from the original data."
   ]
  },
  {
   "cell_type": "code",
   "execution_count": 6,
   "metadata": {},
   "outputs": [],
   "source": [
    "# The code below will give us a uniform value between zero and one. \n",
    "# We can give it a shape of 60,000 by 784 which is the shape of our X_train.\n",
    "# Each value here in X_train will have something randomly added to them, \n",
    "# and we can scale this down a little bit by multiplying it by 0.9.\n",
    "X_train_noisy = X_train + np.random.rand(60000, 784)*0.9\n",
    "\n",
    "# We can do the same thing for our X_test data\n",
    "X_test_noisy = X_test + np.random.rand(10000, 784)*0.9\n",
    "\n",
    "# ensure that our values remain within the zero and one range that we normally see\n",
    "# in the previous task.\n",
    "X_train_noisy = np.clip(X_train_noisy, 0., 1.)\n",
    "\n",
    "# do the same thing for X_test_noisy\n",
    "X_test_noisy = np.clip(X_test_noisy, 0., 1.)\n",
    "\n",
    "# Note: \"0.\" and \"1.\" simply means that these are going to be floating point values."
   ]
  },
  {
   "cell_type": "markdown",
   "metadata": {},
   "source": [
    "That's great! So we added some noise to our data, but we still don't really\n",
    "know how our data actually looks like. And what happens when we add this noise to that?\n",
    "\n",
    "So let's take a look."
   ]
  },
  {
   "cell_type": "code",
   "execution_count": 7,
   "metadata": {},
   "outputs": [
    {
     "data": {
      "image/png": "[encoded data removed]",
      "text/plain": [
       "<Figure size 1440x144 with 1 Axes>"
      ]
     },
     "metadata": {},
     "output_type": "display_data"
    },
    {
     "data": {
      "image/png": "[encoded data removed]",
      "text/plain": [
       "<Figure size 432x288 with 1 Axes>"
      ]
     },
     "metadata": {},
     "output_type": "display_data"
    },
    {
     "data": {
      "image/png": "[encoded data removed]",
      "text/plain": [
       "<Figure size 432x288 with 1 Axes>"
      ]
     },
     "metadata": {},
     "output_type": "display_data"
    },
    {
     "data": {
      "image/png": "[encoded data removed]",
      "text/plain": [
       "<Figure size 432x288 with 1 Axes>"
      ]
     },
     "metadata": {},
     "output_type": "display_data"
    },
    {
     "data": {
      "image/png": "[encoded data removed]",
      "text/plain": [
       "<Figure size 432x288 with 1 Axes>"
      ]
     },
     "metadata": {},
     "output_type": "display_data"
    },
    {
     "data": {
      "image/png": "[encoded data removed]",
      "text/plain": [
       "<Figure size 432x288 with 1 Axes>"
      ]
     },
     "metadata": {},
     "output_type": "display_data"
    },
    {
     "data": {
      "image/png": "[encoded data removed]",
      "text/plain": [
       "<Figure size 432x288 with 1 Axes>"
      ]
     },
     "metadata": {},
     "output_type": "display_data"
    },
    {
     "data": {
      "image/png": "[encoded data removed]",
      "text/plain": [
       "<Figure size 432x288 with 1 Axes>"
      ]
     },
     "metadata": {},
     "output_type": "display_data"
    },
    {
     "data": {
      "image/png": "[encoded data removed]",
      "text/plain": [
       "<Figure size 432x288 with 1 Axes>"
      ]
     },
     "metadata": {},
     "output_type": "display_data"
    },
    {
     "data": {
      "image/png": "[encoded data removed]",
      "text/plain": [
       "<Figure size 432x288 with 1 Axes>"
      ]
     },
     "metadata": {},
     "output_type": "display_data"
    }
   ],
   "source": [
    "# Create a function that will plot out the first 10 images of any dataset.\n",
    "# Our function will take a few arguments. It will take \"x\", \"p\" and \"labels\". \n",
    "# Labels will be set to false by default.\n",
    "\n",
    "# normally when we're looking at the data set, we don't want to pass any \"p\" argument in our function below.\n",
    "# The \"p\" here is going to be for prediction, but we're defining it here right now because later we would \n",
    "# want to take a look at not just the images, but also their corresponding predictions from our classifier\n",
    "# and the composite model that we'll create later.\n",
    "\n",
    "def plot(x, p, labels=False):\n",
    "    plt.figure(figsize=(20,2))\n",
    "    for i in range(10): # refers to the first 10 images that we are plotting\n",
    "        plt.subplot(1, 10, i+1) # 1 row and 10 columns; the index for the subplot \n",
    "                                # starts from one rather than from zero. \n",
    "                                # So we're adding one here to the index.\n",
    "        plt.imshow(x[i].reshape(28, 28), # this will show the image except we will have to reshape to 28 by 28 because we flattened it in the previous task.\n",
    "                   cmap = 'binary') # \"binary\" so that we see the black and white images as they are.\n",
    "        # remove the xticks and yticks so set them to blank list\n",
    "        plt.xticks([])\n",
    "        plt.yticks([])\n",
    "        if labels: # if labels is true,\n",
    "            plt.xlabel(np.argmax(p[i])) # then we also want to label our X axis.\n",
    "            # This is where the \"p\" comes in for prediction.\n",
    "            # If we have predictions on this data set, we will pass those\n",
    "            # predictions as well. And those predictions will be displayed as \n",
    "            # the X labels of the images.\n",
    "        # Come out of the for loop to display the entire plot.\n",
    "        plt.show()\n",
    "# Great! This is our plot function.\n",
    "\n",
    "# Now let's use it to display the first few images from the X_train data set.\n",
    "plot(X_train, None) # set \"None\" for the prediction"
   ]
  },
  {
   "cell_type": "markdown",
   "metadata": {},
   "source": [
    "So we see a bunch of images displayed in our notebook. Awesome!\n",
    "\n",
    "\n",
    "Let's use the plot function again. But this time we want to take a look at the noisy examples.\n",
    "Remember, we just created the X_train_noisy and X_test_noisy and again, we don't have any predictions right now so set it to __None__."
   ]
  },
  {
   "cell_type": "code",
   "execution_count": 8,
   "metadata": {},
   "outputs": [
    {
     "data": {
      "image/png": "[encoded data removed]",
      "text/plain": [
       "<Figure size 1440x144 with 1 Axes>"
      ]
     },
     "metadata": {},
     "output_type": "display_data"
    },
    {
     "data": {
      "image/png": "[encoded data removed]",
      "text/plain": [
       "<Figure size 432x288 with 1 Axes>"
      ]
     },
     "metadata": {},
     "output_type": "display_data"
    },
    {
     "data": {
      "image/png": "[encoded data removed]",
      "text/plain": [
       "<Figure size 432x288 with 1 Axes>"
      ]
     },
     "metadata": {},
     "output_type": "display_data"
    },
    {
     "data": {
      "image/png": "[encoded data removed]",
      "text/plain": [
       "<Figure size 432x288 with 1 Axes>"
      ]
     },
     "metadata": {},
     "output_type": "display_data"
    },
    {
     "data": {
      "image/png": "[encoded data removed]",
      "text/plain": [
       "<Figure size 432x288 with 1 Axes>"
      ]
     },
     "metadata": {},
     "output_type": "display_data"
    },
    {
     "data": {
      "image/png": "[encoded data removed]",
      "text/plain": [
       "<Figure size 432x288 with 1 Axes>"
      ]
     },
     "metadata": {},
     "output_type": "display_data"
    },
    {
     "data": {
      "image/png": "[encoded data removed]",
      "text/plain": [
       "<Figure size 432x288 with 1 Axes>"
      ]
     },
     "metadata": {},
     "output_type": "display_data"
    },
    {
     "data": {
      "image/png": "[encoded data removed]",
      "text/plain": [
       "<Figure size 432x288 with 1 Axes>"
      ]
     },
     "metadata": {},
     "output_type": "display_data"
    },
    {
     "data": {
      "image/png": "[encoded data removed]",
      "text/plain": [
       "<Figure size 432x288 with 1 Axes>"
      ]
     },
     "metadata": {},
     "output_type": "display_data"
    },
    {
     "data": {
      "image/png": "[encoded data removed]",
      "text/plain": [
       "<Figure size 432x288 with 1 Axes>"
      ]
     },
     "metadata": {},
     "output_type": "display_data"
    }
   ],
   "source": [
    "plot(X_train_noisy, None)"
   ]
  },
  {
   "cell_type": "markdown",
   "metadata": {},
   "source": [
    "These are our same examples, but with some noise added to\n",
    "them, and that's actually a lot of noise added to them.\n",
    "\n",
    "\n",
    "So it will be really interesting to check out how a\n",
    "classifier trained on the non noisy data set would perform on\n",
    "a noisy data set like this one."
   ]
  },
  {
   "cell_type": "markdown",
   "metadata": {},
   "source": [
    "## Task 4: Building and Training a Classifier\n",
    "___\n"
   ]
  },
  {
   "cell_type": "markdown",
   "metadata": {},
   "source": [
    "In this task, we will create a classifier and train it to classify handwritten digit\n",
    "images from our MNIST dataset. We will use a very straightforward neural network with just\n",
    "two hidden layers."
   ]
  },
  {
   "cell_type": "code",
   "execution_count": 10,
   "metadata": {},
   "outputs": [
    {
     "name": "stdout",
     "output_type": "stream",
     "text": [
      "Epoch 1/3\n",
      "118/118 [==============================] - 2s 13ms/step - loss: 0.4255 - accuracy: 0.8853\n",
      "Epoch 2/3\n",
      "118/118 [==============================] - 2s 13ms/step - loss: 0.1534 - accuracy: 0.9554\n",
      "Epoch 3/3\n",
      "118/118 [==============================] - 1s 12ms/step - loss: 0.1065 - accuracy: 0.9690\n"
     ]
    },
    {
     "data": {
      "text/plain": [
       "<keras.callbacks.History at 0x1c28a83c340>"
      ]
     },
     "execution_count": 10,
     "metadata": {},
     "output_type": "execute_result"
    }
   ],
   "source": [
    "classifier = Sequential([\n",
    "    Dense(256, activation='relu', input_shape=(784,)),\n",
    "    Dense(256, activation='relu'),\n",
    "    Dense(10, activation='softmax') # softmax to get probability score from this model\n",
    "])\n",
    "\n",
    "# compile our model\n",
    "classifier.compile(\n",
    "    optimizer = 'adam', #short for adaptive moment estimate; works kinda like the RMS prop algorithm but with momentum added to that.\n",
    "    loss = 'sparse_categorical_crossentropy', # we would have used the categorical crossentropy if our labels \n",
    "                                                # were represented in one hot encodings. But they're not. Right now, our labels are not encoded at all.\n",
    "                                                # They basically just have numeric values for the different classes. So for that reason, \n",
    "                                                # we are using sparse, categorical cross entropy\n",
    "    metrics=['accuracy']\n",
    ")\n",
    "\n",
    "# Now we can train our classifier simply by fitting the Model to X_train and y_train.\n",
    "classifier.fit(X_train, y_train, \n",
    "               batch_size=512, # We will also set a batch_size of 512. This is normal, but this is slightly on the higher side.\n",
    "                                # And we're doing this only to speed up the training.\n",
    "               epochs=3) # And finally we will set the epochs. We will just train the model for 3 epochs."
   ]
  },
  {
   "cell_type": "markdown",
   "metadata": {},
   "source": [
    "I should note that we are training it for just three epochs. And that's mainly because we're not really concerned\n",
    "about the training accuracy as such. In a state of the art models, of course, you can get, like, 99.6% or something like that. With the MNIST dataset, we are not really concerned about it as long as you get something above 95%, were good.\n",
    "And you should get that with just three bucks."
   ]
  },
  {
   "cell_type": "markdown",
   "metadata": {},
   "source": [
    "Our classifier is trained with the training data set. We can check its performance on the\n",
    "test data set."
   ]
  },
  {
   "cell_type": "code",
   "execution_count": 11,
   "metadata": {},
   "outputs": [
    {
     "name": "stdout",
     "output_type": "stream",
     "text": [
      "313/313 [==============================] - 1s 1ms/step - loss: 0.1014 - accuracy: 0.9690\n",
      "0.968999981880188\n"
     ]
    }
   ],
   "source": [
    "# we'll use our classifier with evaluate function\n",
    "loss, acc = classifier.evaluate(X_test, y_test)\n",
    "\n",
    "# print out the the returned accuracy rate.\n",
    "print(acc)"
   ]
  },
  {
   "cell_type": "markdown",
   "metadata": {},
   "source": [
    "We get 97% accuracy, which is pretty good.\n",
    "And this is similar to what we got on the training data as\n",
    "well. \n",
    "\n",
    "\n",
    "But what we really wanted to see was the accuracy that we\n",
    "would get on this classifier with the noisy test data."
   ]
  },
  {
   "cell_type": "code",
   "execution_count": 12,
   "metadata": {},
   "outputs": [
    {
     "name": "stdout",
     "output_type": "stream",
     "text": [
      "313/313 [==============================] - 1s 2ms/step - loss: 6.1856 - accuracy: 0.2810\n",
      "0.2809999883174896\n"
     ]
    }
   ],
   "source": [
    "# let's evaluate again but this time for our noisy data\n",
    "loss, acc = classifier.evaluate(X_test_noisy, y_test)\n",
    "print(acc)"
   ]
  },
  {
   "cell_type": "markdown",
   "metadata": {},
   "source": [
    "We get something like 28%. The classifier doesn't work at all on noisy data.\n",
    "This is pretty much random guess from the classifier.\n",
    "\n",
    "So what we want to do now is to create an autoencoder to de-noise our noisy dataset. Then try this\n",
    "classifiers evaluation again and see what kind of improvement our image denies."
   ]
  },
  {
   "cell_type": "markdown",
   "metadata": {},
   "source": [
    "In order to denoise our data, we want to create a model, the auto encoder, which takes\n",
    "a noisy example as input and the original corresponding\n",
    "example as the label.\n",
    "\n",
    "Now, if one or more hidden layers in this neural network has\n",
    "a lot less nodes compared to the input and output, then\n",
    "the training process will force the network to learn\n",
    "a function similar to principal component analysis,\n",
    "essentially reducing dimensionality.\n",
    "\n",
    "And it will essentially force the model to learn the more important characteristics from the data set and focus only on that."
   ]
  },
  {
   "cell_type": "markdown",
   "metadata": {},
   "source": [
    "## Task 5: Building the Autoencoder\n",
    "___\n"
   ]
  },
  {
   "cell_type": "markdown",
   "metadata": {},
   "source": [
    "Let's build our encoder and decoder."
   ]
  },
  {
   "cell_type": "code",
   "execution_count": 13,
   "metadata": {},
   "outputs": [],
   "source": [
    "# One more thing to note here is that the output layer will have a sigmoid activation.\n",
    "# We are going to use keras's functional api to create this autoencoder.\n",
    "# Let's create a variable input_image and define with the input layer from Keras, and this\n",
    "# is of shape 784 dimensional vector.\n",
    "input_image = Input(shape=(784,))\n",
    "\n",
    "# Our encoded result is essentially going through a dense layer with reduced dimensionality.\n",
    "# Create single dense layer passing in the input_image\n",
    "encoded = Dense(64, activation='relu')(input_image)\n",
    "\n",
    "# create one also for decoding\n",
    "# Create single dense layer passing in the encoded\n",
    "decoded = Dense(784, activation='sigmoid')(encoded)"
   ]
  },
  {
   "cell_type": "markdown",
   "metadata": {},
   "source": [
    "So we take something that 784 features. We reduce the dimensionality and we force it\n",
    "to a 64 node fully connected layer.\n",
    "And then we expand it again back to 784 values.\n",
    "\n",
    "So with this way, hopefully, our autoencoder, when we train it,\n",
    "learns to focus only on the important stuff and then is\n",
    "able to because of that is able to de noise and ignore\n",
    "the data which is not important.\n",
    "\n",
    "This is where the sigmoid activation will also come into the picture.\n",
    "The higher linear values of the last layer will become closer\n",
    "to the maximum normalized pixel value of one. And the low linear values will converge towards the minimum normalized pixel values of zero.\n",
    "So this stress of activation makes sense, given the examples,\n",
    "and then put our black and white images. There is still some scope for having a variety of pixel\n",
    "values with some linearity in it, because the sigmoid does have a linear part to it as well.\n",
    "But most values will converge to either zero in one, and that works well for us.\n",
    "\n",
    "However, this does not give us the ah auto encoder model just yet.\n",
    "We will need to use the model class from keras to create that."
   ]
  },
  {
   "cell_type": "code",
   "execution_count": 14,
   "metadata": {},
   "outputs": [],
   "source": [
    "# Build the Autoencoder.\n",
    "# our input is going to be input image and output is simply going to be the decoded output.\n",
    "autoencoder = Model(input_image, decoded)\n",
    "\n",
    "# We also need to compile it.\n",
    "# We'll also set the loss because we are using softmax in the final layer.\n",
    "# Use the optimizer as adam.\n",
    "autoencoder.compile(loss='binary_crossentropy', optimizer='adam')"
   ]
  },
  {
   "cell_type": "markdown",
   "metadata": {},
   "source": [
    "Now that we have the autoencoder, we'll go to the next task and train this autoencoder."
   ]
  },
  {
   "cell_type": "markdown",
   "metadata": {},
   "source": [
    "## Task 6: Training the Autoencoder\n",
    "___\n"
   ]
  },
  {
   "cell_type": "markdown",
   "metadata": {},
   "source": [
    "We will use the noisy training set examples as our examples and the original training set examples, the ones without any noise, will be used as our labels for the autoencoder to learn de-noising. \n",
    "\n",
    "The idea being that by doing this training, our autoencoder will learn to recognize the important\n",
    "features and learn to ignore the rest of the not so important features."
   ]
  },
  {
   "cell_type": "code",
   "execution_count": 16,
   "metadata": {},
   "outputs": [
    {
     "name": "stdout",
     "output_type": "stream",
     "text": [
      "0.225 _ 0.197 _ 0.180 _ 0.169 _ 0.161 _ 0.153 _ 0.147 _ 0.142 _ 0.138 _ 0.134 _ 0.131 _ 0.128 _ 0.126 _ 0.124 _ 0.122 _ 0.120 _ 0.119 _ 0.117 _ 0.116 _ 0.115 _ 0.115 _ 0.114 _ 0.113 _ 0.113 _ 0.112 _ 0.111 _ 0.111 _ 0.111 _ 0.110 _ 0.110 _ 0.110 _ 0.110 _ 0.109 _ 0.109 _ 0.109 _ 0.109 _ 0.109 _ 0.109 _ 0.109 _ 0.109 _ 0.109 _ 0.109 _ 0.109 _ 0.108 _ 0.108 _ 0.108 _ 0.108 _ 0.108 _ 0.108 _ 0.108 _ 0.108 _ 0.108 _ 0.107 _ 0.107 _ 0.107 _ 0.107 _ 0.107 _ 0.107 _ 0.107 _ 0.107 _ 0.107 _ 0.107 _ 0.107 _ 0.107 _ 0.107 _ 0.107 _ 0.107 _ 0.107 _ 0.107 _ 0.107 _ 0.107 _ 0.107 _  _ \n",
      "Training is complete!\n"
     ]
    }
   ],
   "source": [
    "autoencoder.fit(\n",
    "    X_train_noisy, X_train, \n",
    "    epochs=100, # We will use a slightly higher number of epochs this time. \n",
    "                # We probably will not have to train 400 epochs because \n",
    "                # we're going to use early stopping callback. \n",
    "    batch_size=512, # We will set a batch size to 512. \n",
    "                    # This is slightly higher than usual, but this will help speed\n",
    "                    # up the training process.\n",
    "    validation_split=0.2, # Use a validation split of 20%,\n",
    "    verbose=False, # set verbose to false because we don't want to actually use any build logs. \n",
    "                   # Potentially because we're looking at 100 epochs. \n",
    "                   # So we don't want to crowd the notebook too much.\n",
    "                   # Instead, we will use a Lambda callback for a simple logging.\n",
    "    # Let us now define our callbacks; use early stopping; use monitor validation loss \n",
    "    # and set a patient of 5 epochs.\n",
    "    callbacks=[\n",
    "        EarlyStopping(monitor='val_loss', patience=5),\n",
    "    # So if the validation loss does not improve, as if it does not decrease \n",
    "    # for five epochs, then our model will stop the training.\n",
    "        # We will also use Lambda Callback passing in the \"on_epoch_end\" pertaining to the end of Epoch.\n",
    "        # We will use a lambda function; We will print out a validation loss;\n",
    "        # We will also set the ending of our print statement a blank underscore blank.\n",
    "        LambdaCallback(on_epoch_end=lambda e,l: print('{:.3f}'.format(l['val_loss']), end=' _ '))\n",
    "        # This is so that we don't print the validation loss for every epoch in new line. \n",
    "        # It sort of keeps going on and on in a single line until the training is complete.\n",
    "    ]\n",
    ")\n",
    "# When the training is complete, let's print out a statement \"Training is complete!\"\n",
    "print(' _ ')\n",
    "print('Training is complete!')"
   ]
  },
  {
   "cell_type": "markdown",
   "metadata": {},
   "source": [
    "So now that the auto encoder is trained, let's put it to use."
   ]
  },
  {
   "cell_type": "markdown",
   "metadata": {},
   "source": [
    "## Task 7: Denoised Images\n",
    "___\n"
   ]
  },
  {
   "cell_type": "markdown",
   "metadata": {},
   "source": [
    "In order to get our de-noised images, say for our test data, all we have to do is pass the noisy data\n",
    "through the autoencoder."
   ]
  },
  {
   "cell_type": "code",
   "execution_count": 17,
   "metadata": {},
   "outputs": [],
   "source": [
    "# Let's save it in a variable called prediction and use the autoencoders method to \n",
    "# get our outputs then we will pass the X_test_noisy data.\n",
    "predictions = autoencoder.predict(X_test_noisy)"
   ]
  },
  {
   "cell_type": "code",
   "execution_count": 18,
   "metadata": {},
   "outputs": [
    {
     "data": {
      "image/png": "[encoded data removed]",
      "text/plain": [
       "<Figure size 1440x144 with 1 Axes>"
      ]
     },
     "metadata": {},
     "output_type": "display_data"
    },
    {
     "data": {
      "image/png": "[encoded data removed]",
      "text/plain": [
       "<Figure size 432x288 with 1 Axes>"
      ]
     },
     "metadata": {},
     "output_type": "display_data"
    },
    {
     "data": {
      "image/png": "[encoded data removed]",
      "text/plain": [
       "<Figure size 432x288 with 1 Axes>"
      ]
     },
     "metadata": {},
     "output_type": "display_data"
    },
    {
     "data": {
      "image/png": "[encoded data removed]",
      "text/plain": [
       "<Figure size 432x288 with 1 Axes>"
      ]
     },
     "metadata": {},
     "output_type": "display_data"
    },
    {
     "data": {
      "image/png": "[encoded data removed]",
      "text/plain": [
       "<Figure size 432x288 with 1 Axes>"
      ]
     },
     "metadata": {},
     "output_type": "display_data"
    },
    {
     "data": {
      "image/png": "[encoded data removed]",
      "text/plain": [
       "<Figure size 432x288 with 1 Axes>"
      ]
     },
     "metadata": {},
     "output_type": "display_data"
    },
    {
     "data": {
      "image/png": "[encoded data removed]",
      "text/plain": [
       "<Figure size 432x288 with 1 Axes>"
      ]
     },
     "metadata": {},
     "output_type": "display_data"
    },
    {
     "data": {
      "image/png": "[encoded data removed]",
      "text/plain": [
       "<Figure size 432x288 with 1 Axes>"
      ]
     },
     "metadata": {},
     "output_type": "display_data"
    },
    {
     "data": {
      "image/png": "[encoded data removed]",
      "text/plain": [
       "<Figure size 432x288 with 1 Axes>"
      ]
     },
     "metadata": {},
     "output_type": "display_data"
    },
    {
     "data": {
      "image/png": "[encoded data removed]",
      "text/plain": [
       "<Figure size 432x288 with 1 Axes>"
      ]
     },
     "metadata": {},
     "output_type": "display_data"
    }
   ],
   "source": [
    "# To make a comparison, let's plot the images first.\n",
    "plot(X_test_noisy, None)"
   ]
  },
  {
   "cell_type": "markdown",
   "metadata": {},
   "source": [
    "These are the noisy test images that were denoised."
   ]
  },
  {
   "cell_type": "code",
   "execution_count": 19,
   "metadata": {},
   "outputs": [
    {
     "data": {
      "image/png": "[encoded data removed]",
      "text/plain": [
       "<Figure size 1440x144 with 1 Axes>"
      ]
     },
     "metadata": {},
     "output_type": "display_data"
    },
    {
     "data": {
      "image/png": "[encoded data removed]",
      "text/plain": [
       "<Figure size 432x288 with 1 Axes>"
      ]
     },
     "metadata": {},
     "output_type": "display_data"
    },
    {
     "data": {
      "image/png": "[encoded data removed]",
      "text/plain": [
       "<Figure size 432x288 with 1 Axes>"
      ]
     },
     "metadata": {},
     "output_type": "display_data"
    },
    {
     "data": {
      "image/png": "[encoded data removed]",
      "text/plain": [
       "<Figure size 432x288 with 1 Axes>"
      ]
     },
     "metadata": {},
     "output_type": "display_data"
    },
    {
     "data": {
      "image/png": "[encoded data removed]",
      "text/plain": [
       "<Figure size 432x288 with 1 Axes>"
      ]
     },
     "metadata": {},
     "output_type": "display_data"
    },
    {
     "data": {
      "image/png": "[encoded data removed]",
      "text/plain": [
       "<Figure size 432x288 with 1 Axes>"
      ]
     },
     "metadata": {},
     "output_type": "display_data"
    },
    {
     "data": {
      "image/png": "[encoded data removed]",
      "text/plain": [
       "<Figure size 432x288 with 1 Axes>"
      ]
     },
     "metadata": {},
     "output_type": "display_data"
    },
    {
     "data": {
      "image/png": "[encoded data removed]",
      "text/plain": [
       "<Figure size 432x288 with 1 Axes>"
      ]
     },
     "metadata": {},
     "output_type": "display_data"
    },
    {
     "data": {
      "image/png": "[encoded data removed]",
      "text/plain": [
       "<Figure size 432x288 with 1 Axes>"
      ]
     },
     "metadata": {},
     "output_type": "display_data"
    },
    {
     "data": {
      "image/png": "[encoded data removed]",
      "text/plain": [
       "<Figure size 432x288 with 1 Axes>"
      ]
     },
     "metadata": {},
     "output_type": "display_data"
    }
   ],
   "source": [
    "# Let's plot also the denoised output.\n",
    "plot(predictions, None)"
   ]
  },
  {
   "cell_type": "markdown",
   "metadata": {},
   "source": [
    "Great! We can see that it has a done a pretty descent job. Of course, there are ways to improve this performance, especially if we use convolutional neural networks and our autoencoder. But this is still pretty good.\n",
    "\n",
    "Now, while they look good, we also want to check out how they performed after denoising these images with our classifier."
   ]
  },
  {
   "cell_type": "code",
   "execution_count": 20,
   "metadata": {},
   "outputs": [
    {
     "name": "stdout",
     "output_type": "stream",
     "text": [
      "313/313 [==============================] - 1s 2ms/step - loss: 0.1753 - accuracy: 0.9403\n",
      "0.9402999877929688\n"
     ]
    }
   ],
   "source": [
    "loss, acc = classifier.evaluate(predictions, y_test)\n",
    "print(acc)\n",
    "\n",
    "# Remember, we got fairly low accuracy score for the noisy dataset before, around 10%.\n",
    "# And of course, that score might be different everytime we re-run this model.\n",
    "# However, after doing the denoizing, this score should improve drastically."
   ]
  },
  {
   "cell_type": "markdown",
   "metadata": {},
   "source": [
    "Great! Now we get 94% accuracy rate. Again it will be different everytime we re-run this, but it\n",
    "will be in the ballpark.\n",
    "\n",
    "So this is a lot of improvement from when we evaluated the noisy test set images with the classifier.\n",
    "Now we are successfully able to denoise our images to a degree where our classifier is actually able to recognize the digits and the classes in those images.\n",
    "\n",
    "As one final step, we will now hook up our classifier and the auto encoder to create one composite model\n",
    "and basically complete our entire pipeline."
   ]
  },
  {
   "cell_type": "markdown",
   "metadata": {},
   "source": [
    "## Task 8: Composite Model\n",
    "___\n",
    "Note: If you are starting the notebook from this task, you can run cells from all previous tasks in the kernel by going to the top menu and then selecting Kernel > Restart and Run All\n",
    "___"
   ]
  },
  {
   "cell_type": "markdown",
   "metadata": {},
   "source": [
    "Let's create our composite model to complete our entire\n",
    "prediction pipeline. We want a model in which we can simply\n",
    "feed a noisy image, or it could be a non noisy image\n",
    "and the model will first denoise that and then use the denoised image and run\n",
    "it through the classifier to get the class prediction. The idea\n",
    "being that even if our incoming data in a production setting\n",
    "is noisy, our classifier should be able to work well\n",
    "because of the denoizing from the autoenoder.\n",
    "\n",
    "This is a useful idea in a lot of production settings.\n",
    "\n",
    "So, just like before, we will use keras functional API\n",
    "to do this."
   ]
  },
  {
   "cell_type": "code",
   "execution_count": 22,
   "metadata": {},
   "outputs": [],
   "source": [
    "input_image = Input(shape=(784,))\n",
    "x  =autoencoder(input_image)\n",
    "y = classifier(x)\n",
    "\n",
    "# Now we need to encapsulate this within a model. So we will use the model class \n",
    "# from Keras's functional API.\n",
    "denoised_and_classify = Model(input_image, y)"
   ]
  },
  {
   "cell_type": "markdown",
   "metadata": {},
   "source": [
    "Now let's put it to work.  \n",
    "Let's get some predictions and let's use the noisy test set."
   ]
  },
  {
   "cell_type": "code",
   "execution_count": 23,
   "metadata": {},
   "outputs": [],
   "source": [
    "predictions = denoised_and_classify.predict(X_test_noisy)"
   ]
  },
  {
   "cell_type": "code",
   "execution_count": 24,
   "metadata": {},
   "outputs": [
    {
     "data": {
      "image/png": "[encoded data removed]",
      "text/plain": [
       "<Figure size 1440x144 with 1 Axes>"
      ]
     },
     "metadata": {},
     "output_type": "display_data"
    },
    {
     "data": {
      "image/png": "[encoded data removed]",
      "text/plain": [
       "<Figure size 432x288 with 1 Axes>"
      ]
     },
     "metadata": {},
     "output_type": "display_data"
    },
    {
     "data": {
      "image/png": "[encoded data removed]",
      "text/plain": [
       "<Figure size 432x288 with 1 Axes>"
      ]
     },
     "metadata": {},
     "output_type": "display_data"
    },
    {
     "data": {
      "image/png": "[encoded data removed]",
      "text/plain": [
       "<Figure size 432x288 with 1 Axes>"
      ]
     },
     "metadata": {},
     "output_type": "display_data"
    },
    {
     "data": {
      "image/png": "[encoded data removed]",
      "text/plain": [
       "<Figure size 432x288 with 1 Axes>"
      ]
     },
     "metadata": {},
     "output_type": "display_data"
    },
    {
     "data": {
      "image/png": "[encoded data removed]",
      "text/plain": [
       "<Figure size 432x288 with 1 Axes>"
      ]
     },
     "metadata": {},
     "output_type": "display_data"
    },
    {
     "data": {
      "image/png": "[encoded data removed]",
      "text/plain": [
       "<Figure size 432x288 with 1 Axes>"
      ]
     },
     "metadata": {},
     "output_type": "display_data"
    },
    {
     "data": {
      "image/png": "[encoded data removed]",
      "text/plain": [
       "<Figure size 432x288 with 1 Axes>"
      ]
     },
     "metadata": {},
     "output_type": "display_data"
    },
    {
     "data": {
      "image/png": "[encoded data removed]",
      "text/plain": [
       "<Figure size 432x288 with 1 Axes>"
      ]
     },
     "metadata": {},
     "output_type": "display_data"
    },
    {
     "data": {
      "image/png": "[encoded data removed]",
      "text/plain": [
       "<Figure size 432x288 with 1 Axes>"
      ]
     },
     "metadata": {},
     "output_type": "display_data"
    }
   ],
   "source": [
    "# Let's plot out the X_test image data and the predictions.\n",
    "plot(X_test_noisy, predictions, True)\n",
    "\n",
    "# And this time we want to show the labels.\n",
    "# So we set the labels to true and give predictions instead\n",
    "# of none that we've been doing so far.\n",
    "# This time we want to label the images as well."
   ]
  },
  {
   "cell_type": "markdown",
   "metadata": {},
   "source": [
    "All right! So we can see the labelling is actually now pretty good.\n",
    "Although the number \"6\" is mislabeled, but other than that, everything else is correct.\n",
    "\n",
    "And if we want just to make sure, we can make a comparison with the original labels"
   ]
  },
  {
   "cell_type": "code",
   "execution_count": 25,
   "metadata": {},
   "outputs": [
    {
     "data": {
      "image/png": "[encoded data removed]",
      "text/plain": [
       "<Figure size 1440x144 with 1 Axes>"
      ]
     },
     "metadata": {},
     "output_type": "display_data"
    },
    {
     "data": {
      "image/png": "[encoded data removed]",
      "text/plain": [
       "<Figure size 432x288 with 1 Axes>"
      ]
     },
     "metadata": {},
     "output_type": "display_data"
    },
    {
     "data": {
      "image/png": "[encoded data removed]",
      "text/plain": [
       "<Figure size 432x288 with 1 Axes>"
      ]
     },
     "metadata": {},
     "output_type": "display_data"
    },
    {
     "data": {
      "image/png": "[encoded data removed]",
      "text/plain": [
       "<Figure size 432x288 with 1 Axes>"
      ]
     },
     "metadata": {},
     "output_type": "display_data"
    },
    {
     "data": {
      "image/png": "[encoded data removed]",
      "text/plain": [
       "<Figure size 432x288 with 1 Axes>"
      ]
     },
     "metadata": {},
     "output_type": "display_data"
    },
    {
     "data": {
      "image/png": "[encoded data removed]",
      "text/plain": [
       "<Figure size 432x288 with 1 Axes>"
      ]
     },
     "metadata": {},
     "output_type": "display_data"
    },
    {
     "data": {
      "image/png": "[encoded data removed]",
      "text/plain": [
       "<Figure size 432x288 with 1 Axes>"
      ]
     },
     "metadata": {},
     "output_type": "display_data"
    },
    {
     "data": {
      "image/png": "[encoded data removed]",
      "text/plain": [
       "<Figure size 432x288 with 1 Axes>"
      ]
     },
     "metadata": {},
     "output_type": "display_data"
    },
    {
     "data": {
      "image/png": "[encoded data removed]",
      "text/plain": [
       "<Figure size 432x288 with 1 Axes>"
      ]
     },
     "metadata": {},
     "output_type": "display_data"
    },
    {
     "data": {
      "image/png": "[encoded data removed]",
      "text/plain": [
       "<Figure size 432x288 with 1 Axes>"
      ]
     },
     "metadata": {},
     "output_type": "display_data"
    }
   ],
   "source": [
    "# Except I am doing a one hot encoding on the y_test, so that they are in the format \n",
    "# that a plot function expect and set the prediction story labels to true.\n",
    "plot(X_test, to_categorical(y_test), True)"
   ]
  },
  {
   "cell_type": "markdown",
   "metadata": {},
   "source": [
    "Great! So, apart from the number \"5\", which seems, not correctly\n",
    "identified by our denoise and classifier model, everything\n",
    "else is actually correct."
   ]
  }
 ],
 "metadata": {
  "kernelspec": {
   "display_name": "Python 3 (ipykernel)",
   "language": "python",
   "name": "python3"
  },
  "language_info": {
   "codemirror_mode": {
    "name": "ipython",
    "version": 3
   },
   "file_extension": ".py",
   "mimetype": "text/x-python",
   "name": "python",
   "nbconvert_exporter": "python",
   "pygments_lexer": "ipython3",
   "version": "3.8.13"
  }
 },
 "nbformat": 4,
 "nbformat_minor": 4
}
